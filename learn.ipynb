version https://git-lfs.github.com/spec/v1
oid sha256:dfaa942c1a654c8ec98e4ba06570b4e465a5f1a06aa571a1efb520be0ed9b16f
size 2210667
